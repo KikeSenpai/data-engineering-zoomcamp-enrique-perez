{
  "cells": [
    {
      "cell_type": "markdown",
      "metadata": {
        "id": "mrTFv5nPClXh"
      },
      "source": [
        "# **Homework**: Data talks club data engineering zoomcamp Data loading workshop\n",
        "\n",
        "Hello folks, let's practice what we learned - Loading data with the best practices of data engineering.\n",
        "\n",
        "Here are the exercises we will do\n",
        "\n",
        "\n"
      ]
    },
    {
      "cell_type": "markdown",
      "metadata": {
        "id": "wLF4iXf-NR7t"
      },
      "source": [
        "# 1. Use a generator\n",
        "\n",
        "Remember the concept of generator? Let's practice using them to futher our understanding of how they work.\n",
        "\n",
        "Let's define a generator and then run it as practice.\n",
        "\n",
        "**Answer the following questions:**\n",
        "\n",
        "- **Question 1: What is the sum of the outputs of the generator for limit = 5?**\n",
        "- **Question 2: What is the 13th number yielded**\n",
        "\n",
        "I suggest practicing these questions without GPT as the purpose is to further your learning."
      ]
    },
    {
      "cell_type": "code",
      "execution_count": 6,
      "metadata": {},
      "outputs": [],
      "source": [
        "import math"
      ]
    },
    {
      "cell_type": "code",
      "execution_count": 7,
      "metadata": {
        "colab": {
          "base_uri": "https://localhost:8080/"
        },
        "id": "wLng-bDJN4jf",
        "outputId": "547683cb-5f56-4815-a903-d0d9578eb1f9"
      },
      "outputs": [
        {
          "name": "stdout",
          "output_type": "stream",
          "text": [
            "1.000\n",
            "2.414\n",
            "4.146\n",
            "6.146\n",
            "8.382\n"
          ]
        }
      ],
      "source": [
        "def square_root_generator(limit):\n",
        "    n = 1\n",
        "    while n <= limit:\n",
        "        yield n ** 0.5\n",
        "        n += 1\n",
        "\n",
        "# Example usage:\n",
        "limit = 5\n",
        "generator = square_root_generator(limit)\n",
        "suma = 0.0\n",
        "\n",
        "for sqrt_value in generator:\n",
        "    suma += sqrt_value\n",
        "    print(f\"{suma:.3f}\")\n"
      ]
    },
    {
      "cell_type": "code",
      "execution_count": 8,
      "metadata": {},
      "outputs": [
        {
          "data": {
            "text/plain": [
              "8.382"
            ]
          },
          "execution_count": 8,
          "metadata": {},
          "output_type": "execute_result"
        }
      ],
      "source": [
        "round(sum(square_root_generator(5)), 3)"
      ]
    },
    {
      "cell_type": "code",
      "execution_count": 9,
      "metadata": {},
      "outputs": [
        {
          "data": {
            "text/plain": [
              "3.606"
            ]
          },
          "execution_count": 9,
          "metadata": {},
          "output_type": "execute_result"
        }
      ],
      "source": [
        "round(max(square_root_generator(13)), 3)"
      ]
    },
    {
      "cell_type": "code",
      "execution_count": 10,
      "metadata": {},
      "outputs": [
        {
          "name": "stdout",
          "output_type": "stream",
          "text": [
            "1.000\n",
            "1.414\n",
            "1.732\n",
            "2.000\n",
            "2.236\n",
            "2.449\n",
            "2.646\n",
            "2.828\n",
            "3.000\n",
            "3.162\n",
            "3.317\n",
            "3.464\n",
            "3.606\n"
          ]
        }
      ],
      "source": [
        "generator_2 = square_root_generator(13)\n",
        "for value in generator_2:\n",
        "    print(f\"{value:.3f}\")"
      ]
    },
    {
      "cell_type": "markdown",
      "metadata": {
        "id": "vjWhILzGJMpK"
      },
      "source": [
        "# 2. Append a generator to a table with existing data\n",
        "\n",
        "\n",
        "Below you have 2 generators. You will be tasked to load them to duckdb and answer some questions from the data\n",
        "\n",
        "1. Load the first generator and calculate the sum of ages of all people. Make sure to only load it once.\n",
        "2. Append the second generator to the same table as the first.\n",
        "3. **After correctly appending the data, calculate the sum of all ages of people.**\n",
        "\n",
        "\n"
      ]
    },
    {
      "cell_type": "code",
      "execution_count": 11,
      "metadata": {
        "colab": {
          "base_uri": "https://localhost:8080/"
        },
        "id": "2MoaQcdLBEk6",
        "outputId": "d2b93dc1-d83f-44ea-aeff-fdf51d75f7aa"
      },
      "outputs": [
        {
          "name": "stdout",
          "output_type": "stream",
          "text": [
            "{'ID': 1, 'Name': 'Person_1', 'Age': 26, 'City': 'City_A'}\n",
            "{'ID': 2, 'Name': 'Person_2', 'Age': 27, 'City': 'City_A'}\n",
            "{'ID': 3, 'Name': 'Person_3', 'Age': 28, 'City': 'City_A'}\n",
            "{'ID': 4, 'Name': 'Person_4', 'Age': 29, 'City': 'City_A'}\n",
            "{'ID': 5, 'Name': 'Person_5', 'Age': 30, 'City': 'City_A'}\n",
            "{'ID': 3, 'Name': 'Person_3', 'Age': 33, 'City': 'City_B', 'Occupation': 'Job_3'}\n",
            "{'ID': 4, 'Name': 'Person_4', 'Age': 34, 'City': 'City_B', 'Occupation': 'Job_4'}\n",
            "{'ID': 5, 'Name': 'Person_5', 'Age': 35, 'City': 'City_B', 'Occupation': 'Job_5'}\n",
            "{'ID': 6, 'Name': 'Person_6', 'Age': 36, 'City': 'City_B', 'Occupation': 'Job_6'}\n",
            "{'ID': 7, 'Name': 'Person_7', 'Age': 37, 'City': 'City_B', 'Occupation': 'Job_7'}\n",
            "{'ID': 8, 'Name': 'Person_8', 'Age': 38, 'City': 'City_B', 'Occupation': 'Job_8'}\n"
          ]
        }
      ],
      "source": [
        "def people_1():\n",
        "    for i in range(1, 6):\n",
        "        yield {\"ID\": i, \"Name\": f\"Person_{i}\", \"Age\": 25 + i, \"City\": \"City_A\"}\n",
        "\n",
        "for person in people_1():\n",
        "    print(person)\n",
        "\n",
        "\n",
        "def people_2():\n",
        "    for i in range(3, 9):\n",
        "        yield {\"ID\": i, \"Name\": f\"Person_{i}\", \"Age\": 30 + i, \"City\": \"City_B\", \"Occupation\": f\"Job_{i}\"}\n",
        "\n",
        "\n",
        "for person in people_2():\n",
        "    print(person)\n"
      ]
    },
    {
      "cell_type": "code",
      "execution_count": 12,
      "metadata": {},
      "outputs": [
        {
          "name": "stdout",
          "output_type": "stream",
          "text": [
            "Requirement already satisfied: duckdb in /home/eaperezd/.pyenv/versions/3.9.18/envs/data-engineering-zoomcamp/lib/python3.9/site-packages (0.9.2)\n"
          ]
        }
      ],
      "source": [
        "!pip install duckdb"
      ]
    },
    {
      "cell_type": "code",
      "execution_count": 13,
      "metadata": {},
      "outputs": [
        {
          "data": {
            "text/plain": [
              "<duckdb.duckdb.DuckDBPyConnection at 0x7fe0e4191170>"
            ]
          },
          "execution_count": 13,
          "metadata": {},
          "output_type": "execute_result"
        }
      ],
      "source": [
        "import duckdb\n",
        "\n",
        "con = duckdb.connect(database=':memory:', read_only=False)\n",
        "\n",
        "con.execute(\"CREATE TABLE people (ID INTEGER, Name VARCHAR, Age INTEGER, City VARCHAR, Occupation VARCHAR)\")"
      ]
    },
    {
      "cell_type": "code",
      "execution_count": 14,
      "metadata": {},
      "outputs": [
        {
          "data": {
            "text/plain": [
              "┌─────────────┬─────────────┬─────────┬─────────┬─────────┬─────────┐\n",
              "│ column_name │ column_type │  null   │   key   │ default │  extra  │\n",
              "│   varchar   │   varchar   │ varchar │ varchar │ varchar │ varchar │\n",
              "├─────────────┼─────────────┼─────────┼─────────┼─────────┼─────────┤\n",
              "│ ID          │ INTEGER     │ YES     │ NULL    │ NULL    │ NULL    │\n",
              "│ Name        │ VARCHAR     │ YES     │ NULL    │ NULL    │ NULL    │\n",
              "│ Age         │ INTEGER     │ YES     │ NULL    │ NULL    │ NULL    │\n",
              "│ City        │ VARCHAR     │ YES     │ NULL    │ NULL    │ NULL    │\n",
              "│ Occupation  │ VARCHAR     │ YES     │ NULL    │ NULL    │ NULL    │\n",
              "└─────────────┴─────────────┴─────────┴─────────┴─────────┴─────────┘"
            ]
          },
          "execution_count": 14,
          "metadata": {},
          "output_type": "execute_result"
        }
      ],
      "source": [
        "con.sql(\"DESCRIBE TABLE people\")"
      ]
    },
    {
      "cell_type": "code",
      "execution_count": 15,
      "metadata": {},
      "outputs": [],
      "source": [
        "def insert_generator(generator):\n",
        "    for person in generator:\n",
        "        try:\n",
        "            person[\"Occupation\"]\n",
        "        except KeyError:\n",
        "            person[\"Occupation\"] = None\n",
        "        con.execute(\"INSERT INTO people VALUES (?, ?, ?, ?, ?)\", list(person.values()))"
      ]
    },
    {
      "cell_type": "code",
      "execution_count": 16,
      "metadata": {},
      "outputs": [],
      "source": [
        "insert_generator(people_1())"
      ]
    },
    {
      "cell_type": "code",
      "execution_count": 17,
      "metadata": {},
      "outputs": [
        {
          "data": {
            "text/plain": [
              "┌──────────┐\n",
              "│ sum(Age) │\n",
              "│  int128  │\n",
              "├──────────┤\n",
              "│      140 │\n",
              "└──────────┘"
            ]
          },
          "execution_count": 17,
          "metadata": {},
          "output_type": "execute_result"
        }
      ],
      "source": [
        "con.sql(\"SELECT SUM(Age) FROM people\")"
      ]
    },
    {
      "cell_type": "code",
      "execution_count": 18,
      "metadata": {},
      "outputs": [],
      "source": [
        "insert_generator(people_2())"
      ]
    },
    {
      "cell_type": "code",
      "execution_count": 19,
      "metadata": {},
      "outputs": [
        {
          "data": {
            "text/plain": [
              "┌──────────┐\n",
              "│ sum(Age) │\n",
              "│  int128  │\n",
              "├──────────┤\n",
              "│      353 │\n",
              "└──────────┘"
            ]
          },
          "execution_count": 19,
          "metadata": {},
          "output_type": "execute_result"
        }
      ],
      "source": [
        "con.sql(\"SELECT SUM(Age) FROM people\")"
      ]
    },
    {
      "cell_type": "markdown",
      "metadata": {
        "id": "pY4cFAWOSwN1"
      },
      "source": [
        "# 3. Merge a generator\n",
        "\n",
        "Re-use the generators from Exercise 2.\n",
        "\n",
        "A table's primary key needs to be created from the start, so load your data to a new table with primary key ID.\n",
        "\n",
        "Load your first generator first, and then load the second one with merge. Since they have overlapping IDs, some of the records from the first load should be replaced by the ones from the second load.\n",
        "\n",
        "After loading, you should have a total of 8 records, and ID 3 should have age 33.\n",
        "\n",
        "Question: **Calculate the sum of ages of all the people loaded as described above.**\n"
      ]
    },
    {
      "cell_type": "markdown",
      "metadata": {
        "id": "kKB2GTB9oVjr"
      },
      "source": [
        "# Solution: First make sure that the following modules are installed:"
      ]
    },
    {
      "cell_type": "code",
      "execution_count": 20,
      "metadata": {
        "id": "a2-PRBAkGC2K"
      },
      "outputs": [
        {
          "data": {
            "text/plain": [
              "<duckdb.duckdb.DuckDBPyConnection at 0x7fe0e4191170>"
            ]
          },
          "execution_count": 20,
          "metadata": {},
          "output_type": "execute_result"
        }
      ],
      "source": [
        "con.execute(\n",
        "    \"\"\"\n",
        "    CREATE TABLE people_pk (\n",
        "        ID INTEGER PRIMARY KEY,\n",
        "        Name VARCHAR,\n",
        "        Age INTEGER,\n",
        "        City VARCHAR,\n",
        "        Occupation VARCHAR\n",
        "    )\n",
        "    \"\"\"\n",
        ")"
      ]
    },
    {
      "cell_type": "code",
      "execution_count": 21,
      "metadata": {},
      "outputs": [
        {
          "data": {
            "text/plain": [
              "┌─────────────┬─────────────┬─────────┬─────────┬─────────┬───────┐\n",
              "│ column_name │ column_type │  null   │   key   │ default │ extra │\n",
              "│   varchar   │   varchar   │ varchar │ varchar │ varchar │ int32 │\n",
              "├─────────────┼─────────────┼─────────┼─────────┼─────────┼───────┤\n",
              "│ ID          │ INTEGER     │ NO      │ PRI     │ NULL    │  NULL │\n",
              "│ Name        │ VARCHAR     │ YES     │ NULL    │ NULL    │  NULL │\n",
              "│ Age         │ INTEGER     │ YES     │ NULL    │ NULL    │  NULL │\n",
              "│ City        │ VARCHAR     │ YES     │ NULL    │ NULL    │  NULL │\n",
              "│ Occupation  │ VARCHAR     │ YES     │ NULL    │ NULL    │  NULL │\n",
              "└─────────────┴─────────────┴─────────┴─────────┴─────────┴───────┘"
            ]
          },
          "execution_count": 21,
          "metadata": {},
          "output_type": "execute_result"
        }
      ],
      "source": [
        "con.sql(\"DESCRIBE people_pk\")"
      ]
    },
    {
      "cell_type": "code",
      "execution_count": 22,
      "metadata": {},
      "outputs": [],
      "source": [
        "def upsert_generator(generator):\n",
        "    for person in generator:\n",
        "        try:\n",
        "            person[\"Occupation\"]\n",
        "        except KeyError:\n",
        "            person[\"Occupation\"] = None\n",
        "        con.execute(\n",
        "            \"\"\"\n",
        "            INSERT INTO people_pk\n",
        "            VALUES (?, ?, ?, ?, ?)\n",
        "            ON CONFLICT (ID)\n",
        "            DO UPDATE SET\n",
        "                Name = EXCLUDED.Name,\n",
        "                Age = EXCLUDED.Age,\n",
        "                City = EXCLUDED.City,\n",
        "                Occupation = EXCLUDED.Occupation\n",
        "            \"\"\",\n",
        "            list(person.values())\n",
        "        )"
      ]
    },
    {
      "cell_type": "code",
      "execution_count": 23,
      "metadata": {},
      "outputs": [],
      "source": [
        "upsert_generator(people_1())"
      ]
    },
    {
      "cell_type": "code",
      "execution_count": 24,
      "metadata": {},
      "outputs": [
        {
          "data": {
            "text/plain": [
              "┌───────┬──────────┬───────┬─────────┬────────────┐\n",
              "│  ID   │   Name   │  Age  │  City   │ Occupation │\n",
              "│ int32 │ varchar  │ int32 │ varchar │  varchar   │\n",
              "├───────┼──────────┼───────┼─────────┼────────────┤\n",
              "│     1 │ Person_1 │    26 │ City_A  │ NULL       │\n",
              "│     2 │ Person_2 │    27 │ City_A  │ NULL       │\n",
              "│     3 │ Person_3 │    28 │ City_A  │ NULL       │\n",
              "│     4 │ Person_4 │    29 │ City_A  │ NULL       │\n",
              "│     5 │ Person_5 │    30 │ City_A  │ NULL       │\n",
              "└───────┴──────────┴───────┴─────────┴────────────┘"
            ]
          },
          "execution_count": 24,
          "metadata": {},
          "output_type": "execute_result"
        }
      ],
      "source": [
        "con.sql(\"select * from people_pk\")"
      ]
    },
    {
      "cell_type": "code",
      "execution_count": 25,
      "metadata": {},
      "outputs": [],
      "source": [
        "upsert_generator(people_2())"
      ]
    },
    {
      "cell_type": "code",
      "execution_count": 26,
      "metadata": {},
      "outputs": [
        {
          "data": {
            "text/plain": [
              "┌───────┬──────────┬───────┬─────────┬────────────┐\n",
              "│  ID   │   Name   │  Age  │  City   │ Occupation │\n",
              "│ int32 │ varchar  │ int32 │ varchar │  varchar   │\n",
              "├───────┼──────────┼───────┼─────────┼────────────┤\n",
              "│     1 │ Person_1 │    26 │ City_A  │ NULL       │\n",
              "│     2 │ Person_2 │    27 │ City_A  │ NULL       │\n",
              "│     3 │ Person_3 │    33 │ City_B  │ Job_3      │\n",
              "│     4 │ Person_4 │    34 │ City_B  │ Job_4      │\n",
              "│     5 │ Person_5 │    35 │ City_B  │ Job_5      │\n",
              "│     6 │ Person_6 │    36 │ City_B  │ Job_6      │\n",
              "│     7 │ Person_7 │    37 │ City_B  │ Job_7      │\n",
              "│     8 │ Person_8 │    38 │ City_B  │ Job_8      │\n",
              "└───────┴──────────┴───────┴─────────┴────────────┘"
            ]
          },
          "execution_count": 26,
          "metadata": {},
          "output_type": "execute_result"
        }
      ],
      "source": [
        "con.sql(\"select * from people_pk\")"
      ]
    },
    {
      "cell_type": "code",
      "execution_count": 27,
      "metadata": {},
      "outputs": [
        {
          "data": {
            "text/plain": [
              "┌───────────┐\n",
              "│ total_age │\n",
              "│  int128   │\n",
              "├───────────┤\n",
              "│       266 │\n",
              "└───────────┘"
            ]
          },
          "execution_count": 27,
          "metadata": {},
          "output_type": "execute_result"
        }
      ],
      "source": [
        "con.sql(\"select sum(Age) as total_age from people_pk\")"
      ]
    },
    {
      "cell_type": "markdown",
      "metadata": {
        "id": "PoTJu4kbGG0z"
      },
      "source": [
        "Questions? difficulties? We are here to help.\n",
        "- DTC data engineering course channel: https://datatalks-club.slack.com/archives/C01FABYF2RG\n",
        "- dlt's DTC cohort channel: https://dlthub-community.slack.com/archives/C06GAEX2VNX"
      ]
    },
    {
      "cell_type": "markdown",
      "metadata": {},
      "source": [
        "# Playing with DuckDB"
      ]
    },
    {
      "cell_type": "code",
      "execution_count": 28,
      "metadata": {},
      "outputs": [],
      "source": [
        "base_url = \"https://d37ci6vzurychx.cloudfront.net/trip-data/green_tripdata_2022\""
      ]
    },
    {
      "cell_type": "code",
      "execution_count": 45,
      "metadata": {},
      "outputs": [],
      "source": [
        "sql_query = \"SELECT * FROM 'https://d37ci6vzurychx.cloudfront.net/trip-data/green_tripdata_2022-01.parquet' LIMIT 100\""
      ]
    },
    {
      "cell_type": "code",
      "execution_count": 38,
      "metadata": {},
      "outputs": [],
      "source": [
        "con.sql(\"INSTALL https;\")"
      ]
    },
    {
      "cell_type": "code",
      "execution_count": 39,
      "metadata": {},
      "outputs": [],
      "source": [
        "con.sql(\"LOAD https;\")"
      ]
    },
    {
      "cell_type": "code",
      "execution_count": 46,
      "metadata": {},
      "outputs": [
        {
          "data": {
            "text/plain": [
              "┌──────────┬──────────────────────┬──────────────────────┬───┬──────────────┬───────────┬──────────────────────┐\n",
              "│ VendorID │ lpep_pickup_datetime │ lpep_dropoff_datet…  │ … │ payment_type │ trip_type │ congestion_surcharge │\n",
              "│  int64   │      timestamp       │      timestamp       │   │    double    │  double   │        double        │\n",
              "├──────────┼──────────────────────┼──────────────────────┼───┼──────────────┼───────────┼──────────────────────┤\n",
              "│        2 │ 2022-01-01 00:14:21  │ 2022-01-01 00:15:33  │ … │          2.0 │       1.0 │                  0.0 │\n",
              "│        1 │ 2022-01-01 00:20:55  │ 2022-01-01 00:29:38  │ … │          2.0 │       1.0 │                  0.0 │\n",
              "│        1 │ 2022-01-01 00:57:02  │ 2022-01-01 01:13:14  │ … │          1.0 │       1.0 │                 2.75 │\n",
              "│        2 │ 2022-01-01 00:07:42  │ 2022-01-01 00:15:57  │ … │          2.0 │       1.0 │                  0.0 │\n",
              "│        2 │ 2022-01-01 00:07:50  │ 2022-01-01 00:28:52  │ … │          1.0 │       1.0 │                 2.75 │\n",
              "│        1 │ 2022-01-01 00:47:57  │ 2022-01-01 00:54:09  │ … │          2.0 │       1.0 │                  0.0 │\n",
              "│        2 │ 2022-01-01 00:13:38  │ 2022-01-01 00:33:50  │ … │          2.0 │       1.0 │                  0.0 │\n",
              "│        2 │ 2022-01-01 00:43:00  │ 2022-01-01 00:49:20  │ … │          2.0 │       1.0 │                  0.0 │\n",
              "│        2 │ 2022-01-01 00:41:04  │ 2022-01-01 00:47:04  │ … │          2.0 │       1.0 │                  0.0 │\n",
              "│        2 │ 2022-01-01 00:51:07  │ 2022-01-01 01:09:31  │ … │          1.0 │       1.0 │                 2.75 │\n",
              "│        · │          ·           │          ·           │ · │           ·  │        ·  │                   ·  │\n",
              "│        · │          ·           │          ·           │ · │           ·  │        ·  │                   ·  │\n",
              "│        · │          ·           │          ·           │ · │           ·  │        ·  │                   ·  │\n",
              "│        2 │ 2022-01-01 01:22:16  │ 2022-01-01 01:33:24  │ … │          1.0 │       1.0 │                  0.0 │\n",
              "│        2 │ 2022-01-01 01:35:03  │ 2022-01-01 01:53:23  │ … │          1.0 │       1.0 │                  0.0 │\n",
              "│        2 │ 2022-01-01 01:44:09  │ 2022-01-01 01:59:09  │ … │          2.0 │       1.0 │                  0.0 │\n",
              "│        2 │ 2022-01-01 01:29:07  │ 2022-01-01 01:52:01  │ … │          1.0 │       1.0 │                  0.0 │\n",
              "│        2 │ 2022-01-01 01:38:13  │ 2022-01-01 01:41:30  │ … │          1.0 │       1.0 │                  0.0 │\n",
              "│        2 │ 2022-01-01 01:44:50  │ 2022-01-01 01:51:05  │ … │          1.0 │       1.0 │                  0.0 │\n",
              "│        2 │ 2022-01-01 01:14:40  │ 2022-01-01 01:16:39  │ … │          2.0 │       1.0 │                  0.0 │\n",
              "│        2 │ 2022-01-01 01:32:50  │ 2022-01-01 01:51:35  │ … │          2.0 │       1.0 │                  0.0 │\n",
              "│        2 │ 2022-01-01 01:59:25  │ 2022-01-01 02:40:28  │ … │          2.0 │       1.0 │                  0.0 │\n",
              "│        2 │ 2022-01-01 01:30:58  │ 2022-01-01 01:50:31  │ … │          2.0 │       1.0 │                 2.75 │\n",
              "├──────────┴──────────────────────┴──────────────────────┴───┴──────────────┴───────────┴──────────────────────┤\n",
              "│ 100 rows (20 shown)                                                                     20 columns (6 shown) │\n",
              "└──────────────────────────────────────────────────────────────────────────────────────────────────────────────┘"
            ]
          },
          "execution_count": 46,
          "metadata": {},
          "output_type": "execute_result"
        }
      ],
      "source": [
        "con.sql(sql_query)"
      ]
    },
    {
      "cell_type": "code",
      "execution_count": 47,
      "metadata": {},
      "outputs": [
        {
          "data": {
            "text/plain": [
              "┌───────────────────────┬─────────────┬─────────┬─────────┬─────────┬─────────┐\n",
              "│      column_name      │ column_type │  null   │   key   │ default │  extra  │\n",
              "│        varchar        │   varchar   │ varchar │ varchar │ varchar │ varchar │\n",
              "├───────────────────────┼─────────────┼─────────┼─────────┼─────────┼─────────┤\n",
              "│ VendorID              │ BIGINT      │ YES     │ NULL    │ NULL    │ NULL    │\n",
              "│ lpep_pickup_datetime  │ TIMESTAMP   │ YES     │ NULL    │ NULL    │ NULL    │\n",
              "│ lpep_dropoff_datetime │ TIMESTAMP   │ YES     │ NULL    │ NULL    │ NULL    │\n",
              "│ store_and_fwd_flag    │ VARCHAR     │ YES     │ NULL    │ NULL    │ NULL    │\n",
              "│ RatecodeID            │ DOUBLE      │ YES     │ NULL    │ NULL    │ NULL    │\n",
              "│ PULocationID          │ BIGINT      │ YES     │ NULL    │ NULL    │ NULL    │\n",
              "│ DOLocationID          │ BIGINT      │ YES     │ NULL    │ NULL    │ NULL    │\n",
              "│ passenger_count       │ DOUBLE      │ YES     │ NULL    │ NULL    │ NULL    │\n",
              "│ trip_distance         │ DOUBLE      │ YES     │ NULL    │ NULL    │ NULL    │\n",
              "│ fare_amount           │ DOUBLE      │ YES     │ NULL    │ NULL    │ NULL    │\n",
              "│ extra                 │ DOUBLE      │ YES     │ NULL    │ NULL    │ NULL    │\n",
              "│ mta_tax               │ DOUBLE      │ YES     │ NULL    │ NULL    │ NULL    │\n",
              "│ tip_amount            │ DOUBLE      │ YES     │ NULL    │ NULL    │ NULL    │\n",
              "│ tolls_amount          │ DOUBLE      │ YES     │ NULL    │ NULL    │ NULL    │\n",
              "│ ehail_fee             │ INTEGER     │ YES     │ NULL    │ NULL    │ NULL    │\n",
              "│ improvement_surcharge │ DOUBLE      │ YES     │ NULL    │ NULL    │ NULL    │\n",
              "│ total_amount          │ DOUBLE      │ YES     │ NULL    │ NULL    │ NULL    │\n",
              "│ payment_type          │ DOUBLE      │ YES     │ NULL    │ NULL    │ NULL    │\n",
              "│ trip_type             │ DOUBLE      │ YES     │ NULL    │ NULL    │ NULL    │\n",
              "│ congestion_surcharge  │ DOUBLE      │ YES     │ NULL    │ NULL    │ NULL    │\n",
              "├───────────────────────┴─────────────┴─────────┴─────────┴─────────┴─────────┤\n",
              "│ 20 rows                                                           6 columns │\n",
              "└─────────────────────────────────────────────────────────────────────────────┘"
            ]
          },
          "execution_count": 47,
          "metadata": {},
          "output_type": "execute_result"
        }
      ],
      "source": [
        "con.sql(\"DESCRIBE FROM 'https://d37ci6vzurychx.cloudfront.net/trip-data/green_tripdata_2022-01.parquet'\")"
      ]
    },
    {
      "cell_type": "code",
      "execution_count": 53,
      "metadata": {},
      "outputs": [
        {
          "ename": "AttributeError",
          "evalue": "This relation does not contain a column by the name of 'polars'",
          "output_type": "error",
          "traceback": [
            "\u001b[0;31m---------------------------------------------------------------------------\u001b[0m",
            "\u001b[0;31mAttributeError\u001b[0m                            Traceback (most recent call last)",
            "Cell \u001b[0;32mIn[53], line 1\u001b[0m\n\u001b[0;32m----> 1\u001b[0m \u001b[43mcon\u001b[49m\u001b[38;5;241;43m.\u001b[39;49m\u001b[43msql\u001b[49m\u001b[43m(\u001b[49m\u001b[38;5;124;43m\"\u001b[39;49m\u001b[38;5;124;43mSELECT VendorID, RatecodeID, sum(tip_amount) as tip FROM \u001b[39;49m\u001b[38;5;124;43m'\u001b[39;49m\u001b[38;5;124;43mhttps://d37ci6vzurychx.cloudfront.net/trip-data/green_tripdata_2022-01.parquet\u001b[39;49m\u001b[38;5;124;43m'\u001b[39;49m\u001b[38;5;124;43m group by all\u001b[39;49m\u001b[38;5;124;43m\"\u001b[39;49m\u001b[43m)\u001b[49m\u001b[38;5;241;43m.\u001b[39;49m\u001b[43mpolars\u001b[49m()\n",
            "\u001b[0;31mAttributeError\u001b[0m: This relation does not contain a column by the name of 'polars'"
          ]
        }
      ],
      "source": [
        "con.sql(\"SELECT VendorID, RatecodeID, sum(tip_amount) as tip FROM 'https://d37ci6vzurychx.cloudfront.net/trip-data/green_tripdata_2022-01.parquet' group by all\")"
      ]
    },
    {
      "cell_type": "code",
      "execution_count": 55,
      "metadata": {},
      "outputs": [],
      "source": [
        "some_data = [{\"id\": 1, \"value\": 10}, {\"id\": 2, \"value\": 20}, {\"id\": 3, \"value\": 30}]"
      ]
    },
    {
      "cell_type": "code",
      "execution_count": 58,
      "metadata": {},
      "outputs": [],
      "source": [
        "import pandas as pd"
      ]
    },
    {
      "cell_type": "code",
      "execution_count": 59,
      "metadata": {},
      "outputs": [],
      "source": [
        "internal_df = pd.DataFrame(some_data)"
      ]
    },
    {
      "cell_type": "code",
      "execution_count": 60,
      "metadata": {},
      "outputs": [
        {
          "data": {
            "text/html": [
              "<div>\n",
              "<style scoped>\n",
              "    .dataframe tbody tr th:only-of-type {\n",
              "        vertical-align: middle;\n",
              "    }\n",
              "\n",
              "    .dataframe tbody tr th {\n",
              "        vertical-align: top;\n",
              "    }\n",
              "\n",
              "    .dataframe thead th {\n",
              "        text-align: right;\n",
              "    }\n",
              "</style>\n",
              "<table border=\"1\" class=\"dataframe\">\n",
              "  <thead>\n",
              "    <tr style=\"text-align: right;\">\n",
              "      <th></th>\n",
              "      <th>id</th>\n",
              "      <th>value</th>\n",
              "    </tr>\n",
              "  </thead>\n",
              "  <tbody>\n",
              "    <tr>\n",
              "      <th>0</th>\n",
              "      <td>1</td>\n",
              "      <td>10</td>\n",
              "    </tr>\n",
              "    <tr>\n",
              "      <th>1</th>\n",
              "      <td>2</td>\n",
              "      <td>20</td>\n",
              "    </tr>\n",
              "    <tr>\n",
              "      <th>2</th>\n",
              "      <td>3</td>\n",
              "      <td>30</td>\n",
              "    </tr>\n",
              "  </tbody>\n",
              "</table>\n",
              "</div>"
            ],
            "text/plain": [
              "   id  value\n",
              "0   1     10\n",
              "1   2     20\n",
              "2   3     30"
            ]
          },
          "execution_count": 60,
          "metadata": {},
          "output_type": "execute_result"
        }
      ],
      "source": [
        "internal_df"
      ]
    },
    {
      "cell_type": "code",
      "execution_count": 80,
      "metadata": {},
      "outputs": [
        {
          "name": "stdout",
          "output_type": "stream",
          "text": [
            "CPU times: user 231 ms, sys: 606 µs, total: 232 ms\n",
            "Wall time: 535 ms\n"
          ]
        },
        {
          "data": {
            "text/plain": [
              "┌───────────────┬──────────────────────────────────────────────────────────────────────────────────────────────────────┐\n",
              "│  explain_key  │                                            explain_value                                             │\n",
              "│    varchar    │                                               varchar                                                │\n",
              "├───────────────┼──────────────────────────────────────────────────────────────────────────────────────────────────────┤\n",
              "│ analyzed_plan │ ┌─────────────────────────────────────┐\\n│┌───────────────────────────────────┐│\\n││    Query Prof…  │\n",
              "└───────────────┴──────────────────────────────────────────────────────────────────────────────────────────────────────┘\n"
            ]
          },
          "execution_count": 80,
          "metadata": {},
          "output_type": "execute_result"
        }
      ],
      "source": [
        "%time con.sql(\"EXPLAIN ANALYZE SELECT * from internal_df CROSS JOIN (SELECT VendorID, RatecodeID, sum(tip_amount) as tip FROM 'https://d37ci6vzurychx.cloudfront.net/trip-data/green_tripdata_2022-01.parquet' group by all)\")"
      ]
    },
    {
      "cell_type": "markdown",
      "metadata": {},
      "source": []
    }
  ],
  "metadata": {
    "colab": {
      "provenance": []
    },
    "kernelspec": {
      "display_name": "Python 3",
      "name": "python3"
    },
    "language_info": {
      "codemirror_mode": {
        "name": "ipython",
        "version": 3
      },
      "file_extension": ".py",
      "mimetype": "text/x-python",
      "name": "python",
      "nbconvert_exporter": "python",
      "pygments_lexer": "ipython3",
      "version": "3.9.18"
    }
  },
  "nbformat": 4,
  "nbformat_minor": 0
}
